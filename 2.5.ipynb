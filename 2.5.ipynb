{
  "nbformat": 4,
  "nbformat_minor": 0,
  "metadata": {
    "colab": {
      "name": "05.ipynb",
      "provenance": [],
      "authorship_tag": "ABX9TyP6k6k+QT0NTXiyCDPXg2Mo",
      "include_colab_link": true
    },
    "kernelspec": {
      "name": "python3",
      "display_name": "Python 3"
    },
    "language_info": {
      "name": "python"
    }
  },
  "cells": [
    {
      "cell_type": "markdown",
      "metadata": {
        "id": "view-in-github",
        "colab_type": "text"
      },
      "source": [
        "<a href=\"https://colab.research.google.com/github/xiekg2020/DL_test/blob/main/05.ipynb\" target=\"_parent\"><img src=\"https://colab.research.google.com/assets/colab-badge.svg\" alt=\"Open In Colab\"/></a>"
      ]
    },
    {
      "cell_type": "code",
      "metadata": {
        "id": "fyZMmpDGS-oY"
      },
      "source": [
        "import tensorflow as tf\n",
        "\n",
        "x = tf.range(4, dtype=tf.float32)\n",
        "x=tf.Variable(x)\n",
        "\n",
        "with tf.GradientTape() as t:\n",
        "  y=2*tf.tensordot(x, x, axes=1)\n"
      ],
      "execution_count": 12,
      "outputs": []
    },
    {
      "cell_type": "code",
      "metadata": {
        "colab": {
          "base_uri": "https://localhost:8080/"
        },
        "id": "KVOOFsjiTlV_",
        "outputId": "8f83313e-97d0-48c9-baf4-e72048a17212"
      },
      "source": [
        "x_grad=t.gradient(y,x)\n",
        "x_grad"
      ],
      "execution_count": 8,
      "outputs": [
        {
          "output_type": "execute_result",
          "data": {
            "text/plain": [
              "<tf.Tensor: shape=(4,), dtype=float32, numpy=array([ 0.,  4.,  8., 12.], dtype=float32)>"
            ]
          },
          "metadata": {
            "tags": []
          },
          "execution_count": 8
        }
      ]
    },
    {
      "cell_type": "code",
      "metadata": {
        "colab": {
          "base_uri": "https://localhost:8080/"
        },
        "id": "iIM5Ukl5VIAV",
        "outputId": "41f3c1e6-173a-432c-c505-129ccdce57b2"
      },
      "source": [
        "def f(a):\n",
        "  b=a*2\n",
        "  while tf.norm(b) < 1000:\n",
        "    b=b*2\n",
        "  if tf.reduce_sum(b) > 0:\n",
        "    c=b\n",
        "  else:\n",
        "    c=100*b\n",
        "  return c\n",
        "\n",
        "a=tf.Variable(tf.random.normal(shape=()))\n",
        "with tf.GradientTape() as t:\n",
        "  d=f(a)\n",
        "d_grad=t.gradient(d,a)\n",
        "a,d,d_grad"
      ],
      "execution_count": 22,
      "outputs": [
        {
          "output_type": "execute_result",
          "data": {
            "text/plain": [
              "(<tf.Variable 'Variable:0' shape=() dtype=float32, numpy=-0.6034964>,\n",
              " <tf.Tensor: shape=(), dtype=float32, numpy=-123596.055>,\n",
              " <tf.Tensor: shape=(), dtype=float32, numpy=204800.0>)"
            ]
          },
          "metadata": {
            "tags": []
          },
          "execution_count": 22
        }
      ]
    },
    {
      "cell_type": "code",
      "metadata": {
        "id": "pV4epSqrd_Jr"
      },
      "source": [
        ""
      ],
      "execution_count": null,
      "outputs": []
    }
  ]
}
