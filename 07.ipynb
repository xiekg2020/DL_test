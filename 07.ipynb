{
  "nbformat": 4,
  "nbformat_minor": 0,
  "metadata": {
    "colab": {
      "name": "07.ipynb",
      "provenance": [],
      "authorship_tag": "ABX9TyPYQjX2xPX2XBmoBL+h4Em4",
      "include_colab_link": true
    },
    "kernelspec": {
      "name": "python3",
      "display_name": "Python 3"
    },
    "language_info": {
      "name": "python"
    }
  },
  "cells": [
    {
      "cell_type": "markdown",
      "metadata": {
        "id": "view-in-github",
        "colab_type": "text"
      },
      "source": [
        "<a href=\"https://colab.research.google.com/github/xiekg2020/DL_test/blob/main/07.ipynb\" target=\"_parent\"><img src=\"https://colab.research.google.com/assets/colab-badge.svg\" alt=\"Open In Colab\"/></a>"
      ]
    },
    {
      "cell_type": "code",
      "metadata": {
        "colab": {
          "base_uri": "https://localhost:8080/"
        },
        "id": "5U43PadRCML5",
        "outputId": "f1593043-5219-4eec-b331-e8b8580e0fc9"
      },
      "source": [
        "import tensorflow as tf\n",
        "\n",
        "print(dir(tf.range))"
      ],
      "execution_count": 2,
      "outputs": [
        {
          "output_type": "stream",
          "text": [
            "['__annotations__', '__call__', '__class__', '__closure__', '__code__', '__defaults__', '__delattr__', '__dict__', '__dir__', '__doc__', '__eq__', '__format__', '__ge__', '__get__', '__getattribute__', '__globals__', '__gt__', '__hash__', '__init__', '__init_subclass__', '__kwdefaults__', '__le__', '__lt__', '__module__', '__name__', '__ne__', '__new__', '__original_wrapped__', '__qualname__', '__reduce__', '__reduce_ex__', '__repr__', '__setattr__', '__sizeof__', '__str__', '__subclasshook__', '__wrapped__', '_tf_decorator', '_tf_dispatchers']\n"
          ],
          "name": "stdout"
        }
      ]
    },
    {
      "cell_type": "code",
      "metadata": {
        "colab": {
          "base_uri": "https://localhost:8080/"
        },
        "id": "NBvQrPJaCp7n",
        "outputId": "6c086822-65d1-4d2e-e593-2375785cdd8e"
      },
      "source": [
        "help(tf.ones)"
      ],
      "execution_count": 3,
      "outputs": [
        {
          "output_type": "stream",
          "text": [
            "Help on function ones in module tensorflow.python.ops.array_ops:\n",
            "\n",
            "ones(shape, dtype=tf.float32, name=None)\n",
            "    Creates a tensor with all elements set to one (1).\n",
            "    \n",
            "    See also `tf.ones_like`, `tf.zeros`, `tf.fill`, `tf.eye`.\n",
            "    \n",
            "    This operation returns a tensor of type `dtype` with shape `shape` and\n",
            "    all elements set to one.\n",
            "    \n",
            "    >>> tf.ones([3, 4], tf.int32)\n",
            "    <tf.Tensor: shape=(3, 4), dtype=int32, numpy=\n",
            "    array([[1, 1, 1, 1],\n",
            "           [1, 1, 1, 1],\n",
            "           [1, 1, 1, 1]], dtype=int32)>\n",
            "    \n",
            "    Args:\n",
            "      shape: A `list` of integers, a `tuple` of integers, or\n",
            "        a 1-D `Tensor` of type `int32`.\n",
            "      dtype: Optional DType of an element in the resulting `Tensor`. Default is\n",
            "        `tf.float32`.\n",
            "      name: Optional string. A name for the operation.\n",
            "    \n",
            "    Returns:\n",
            "      A `Tensor` with all elements set to one (1).\n",
            "\n"
          ],
          "name": "stdout"
        }
      ]
    }
  ]
}