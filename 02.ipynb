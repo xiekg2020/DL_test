{
  "nbformat": 4,
  "nbformat_minor": 0,
  "metadata": {
    "colab": {
      "name": "02.ipynb",
      "provenance": [],
      "authorship_tag": "ABX9TyM2Tkn/CHvyDsiCrio0iUdY",
      "include_colab_link": true
    },
    "kernelspec": {
      "name": "python3",
      "display_name": "Python 3"
    },
    "language_info": {
      "name": "python"
    }
  },
  "cells": [
    {
      "cell_type": "markdown",
      "metadata": {
        "id": "view-in-github",
        "colab_type": "text"
      },
      "source": [
        "<a href=\"https://colab.research.google.com/github/xiekg2020/DL_test/blob/main/02.ipynb\" target=\"_parent\"><img src=\"https://colab.research.google.com/assets/colab-badge.svg\" alt=\"Open In Colab\"/></a>"
      ]
    },
    {
      "cell_type": "code",
      "metadata": {
        "id": "sdUN6ThiKpOD"
      },
      "source": [
        "import os\n",
        "os.makedirs(os.path.join('..','data'),exist_ok=True)\n",
        "data_file=os.path.join('..','data','house_tiny.csv')\n",
        "with open(data_file, 'w') as f:\n",
        "  f.write('NumRooms,Alley,Price\\n')\n",
        "  f.write('NA,Pave,127500\\n')\n",
        "  f.write('2,NA,106000\\n')\n",
        "  f.write('4,NA,178100\\n')\n",
        "  f.write('NA,NA,140000\\n')"
      ],
      "execution_count": 1,
      "outputs": []
    },
    {
      "cell_type": "code",
      "metadata": {
        "colab": {
          "base_uri": "https://localhost:8080/"
        },
        "id": "Hgphrx8EKsSZ",
        "outputId": "05e6a69a-8001-4299-908b-92612462957e"
      },
      "source": [
        "import pandas as pd\n",
        "data=pd.read_csv(data_file)\n",
        "print(data)"
      ],
      "execution_count": 4,
      "outputs": [
        {
          "output_type": "stream",
          "text": [
            "   NumRooms Alley   Price\n",
            "0       NaN  Pave  127500\n",
            "1       2.0   NaN  106000\n",
            "2       4.0   NaN  178100\n",
            "3       NaN   NaN  140000\n"
          ],
          "name": "stdout"
        }
      ]
    },
    {
      "cell_type": "code",
      "metadata": {
        "colab": {
          "base_uri": "https://localhost:8080/"
        },
        "id": "-HbtXUwWMacz",
        "outputId": "f1a941b5-95c2-4d62-b550-55421adabd20"
      },
      "source": [
        "inputs,outputs=data.iloc[:,0:2],data.iloc[:,2]\n",
        "inputs=inputs.fillna(inputs.mean())\n",
        "print(inputs)"
      ],
      "execution_count": 8,
      "outputs": [
        {
          "output_type": "stream",
          "text": [
            "   NumRooms Alley\n",
            "0       3.0  Pave\n",
            "1       2.0   NaN\n",
            "2       4.0   NaN\n",
            "3       3.0   NaN\n"
          ],
          "name": "stdout"
        }
      ]
    },
    {
      "cell_type": "code",
      "metadata": {
        "colab": {
          "base_uri": "https://localhost:8080/"
        },
        "id": "lP-Pr9w0NaQs",
        "outputId": "729131c6-f8a4-437e-d8eb-0aa1032ebba2"
      },
      "source": [
        "inputs=pd.get_dummies(inputs,dummy_na=True)\n",
        "print(inputs)"
      ],
      "execution_count": 9,
      "outputs": [
        {
          "output_type": "stream",
          "text": [
            "   NumRooms  Alley_Pave  Alley_nan\n",
            "0       3.0           1          0\n",
            "1       2.0           0          1\n",
            "2       4.0           0          1\n",
            "3       3.0           0          1\n"
          ],
          "name": "stdout"
        }
      ]
    },
    {
      "cell_type": "code",
      "metadata": {
        "colab": {
          "base_uri": "https://localhost:8080/"
        },
        "id": "RPdr-fd3N14i",
        "outputId": "595d2a82-eeb7-4b8a-b980-e9ca1471f060"
      },
      "source": [
        "import tensorflow as tf\n",
        "x,y=tf.constant(inputs.values), tf.constant(outputs.values)\n",
        "x,y"
      ],
      "execution_count": 10,
      "outputs": [
        {
          "output_type": "execute_result",
          "data": {
            "text/plain": [
              "(<tf.Tensor: shape=(4, 3), dtype=float64, numpy=\n",
              " array([[3., 1., 0.],\n",
              "        [2., 0., 1.],\n",
              "        [4., 0., 1.],\n",
              "        [3., 0., 1.]])>,\n",
              " <tf.Tensor: shape=(4,), dtype=int64, numpy=array([127500, 106000, 178100, 140000])>)"
            ]
          },
          "metadata": {
            "tags": []
          },
          "execution_count": 10
        }
      ]
    }
  ]
}