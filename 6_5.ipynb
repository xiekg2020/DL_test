{
  "nbformat": 4,
  "nbformat_minor": 0,
  "metadata": {
    "colab": {
      "name": "6_5.ipynb",
      "provenance": [],
      "authorship_tag": "ABX9TyOlAsUgk7g7faSNgBkj+Tz8",
      "include_colab_link": true
    },
    "kernelspec": {
      "name": "python3",
      "display_name": "Python 3"
    },
    "language_info": {
      "name": "python"
    }
  },
  "cells": [
    {
      "cell_type": "markdown",
      "metadata": {
        "id": "view-in-github",
        "colab_type": "text"
      },
      "source": [
        "<a href=\"https://colab.research.google.com/github/xiekg2020/DL_test/blob/main/6_5.ipynb\" target=\"_parent\"><img src=\"https://colab.research.google.com/assets/colab-badge.svg\" alt=\"Open In Colab\"/></a>"
      ]
    },
    {
      "cell_type": "code",
      "metadata": {
        "id": "ZoKyZ91wlZRn"
      },
      "source": [
        "import tensorflow as tf\n",
        "\n",
        "def pool2d(X, pool_size, mode='max'):\n",
        "    p_h, p_w = pool_size\n",
        "    Y = tf.Variable(tf.zeros((X.shape[0] - p_h + 1, X.shape[1] - p_w + 1)))\n",
        "    for i in range(Y.shape[0]):\n",
        "        for j in range(Y.shape[1]):\n",
        "            if mode == 'max':\n",
        "                Y[i, j].assign(tf.reduce_max(X[i:i + p_h, j:j + p_w]))\n",
        "            elif mode == 'avg':\n",
        "                Y[i, j].assign(tf.reduce_mean(X[i:i + p_h, j:j + p_w]))\n",
        "    return Y"
      ],
      "execution_count": 2,
      "outputs": []
    },
    {
      "cell_type": "code",
      "metadata": {
        "colab": {
          "base_uri": "https://localhost:8080/"
        },
        "id": "8geicE4BmwPA",
        "outputId": "bc118acf-ba87-4523-e4fe-67541001482e"
      },
      "source": [
        "X = tf.constant([[0.0, 1.0, 2.0], [3.0, 4.0, 5.0], [6.0, 7.0, 8.0]])\n",
        "pool2d(X, (2, 2))"
      ],
      "execution_count": 3,
      "outputs": [
        {
          "output_type": "execute_result",
          "data": {
            "text/plain": [
              "<tf.Variable 'Variable:0' shape=(2, 2) dtype=float32, numpy=\n",
              "array([[4., 5.],\n",
              "       [7., 8.]], dtype=float32)>"
            ]
          },
          "metadata": {
            "tags": []
          },
          "execution_count": 3
        }
      ]
    },
    {
      "cell_type": "code",
      "metadata": {
        "colab": {
          "base_uri": "https://localhost:8080/"
        },
        "id": "uQ9Y6SFemyl_",
        "outputId": "c92b9912-c26c-42cd-bd8e-e1ed0d155d02"
      },
      "source": [
        "pool2d(X, (2, 2), 'avg')"
      ],
      "execution_count": 4,
      "outputs": [
        {
          "output_type": "execute_result",
          "data": {
            "text/plain": [
              "<tf.Variable 'Variable:0' shape=(2, 2) dtype=float32, numpy=\n",
              "array([[2., 3.],\n",
              "       [5., 6.]], dtype=float32)>"
            ]
          },
          "metadata": {
            "tags": []
          },
          "execution_count": 4
        }
      ]
    },
    {
      "cell_type": "code",
      "metadata": {
        "colab": {
          "base_uri": "https://localhost:8080/"
        },
        "id": "f1Yx7n71oxs1",
        "outputId": "fde56a20-ae06-46ef-efad-9d9e4a097fd9"
      },
      "source": [
        "X = tf.reshape(tf.range(16, dtype=tf.float32), (1, 4, 4, 1))\n",
        "X"
      ],
      "execution_count": 5,
      "outputs": [
        {
          "output_type": "execute_result",
          "data": {
            "text/plain": [
              "<tf.Tensor: shape=(1, 4, 4, 1), dtype=float32, numpy=\n",
              "array([[[[ 0.],\n",
              "         [ 1.],\n",
              "         [ 2.],\n",
              "         [ 3.]],\n",
              "\n",
              "        [[ 4.],\n",
              "         [ 5.],\n",
              "         [ 6.],\n",
              "         [ 7.]],\n",
              "\n",
              "        [[ 8.],\n",
              "         [ 9.],\n",
              "         [10.],\n",
              "         [11.]],\n",
              "\n",
              "        [[12.],\n",
              "         [13.],\n",
              "         [14.],\n",
              "         [15.]]]], dtype=float32)>"
            ]
          },
          "metadata": {
            "tags": []
          },
          "execution_count": 5
        }
      ]
    },
    {
      "cell_type": "code",
      "metadata": {
        "colab": {
          "base_uri": "https://localhost:8080/"
        },
        "id": "uxiP1cTyryNJ",
        "outputId": "23ed6cda-8d0a-4f79-8a3f-3ae5096af5c0"
      },
      "source": [
        "pool2d = tf.keras.layers.MaxPool2D(pool_size=[3, 3])\n",
        "pool2d(X)"
      ],
      "execution_count": 6,
      "outputs": [
        {
          "output_type": "execute_result",
          "data": {
            "text/plain": [
              "<tf.Tensor: shape=(1, 1, 1, 1), dtype=float32, numpy=array([[[[10.]]]], dtype=float32)>"
            ]
          },
          "metadata": {
            "tags": []
          },
          "execution_count": 6
        }
      ]
    },
    {
      "cell_type": "code",
      "metadata": {
        "colab": {
          "base_uri": "https://localhost:8080/"
        },
        "id": "mzp6Imm9sNaq",
        "outputId": "c8de2f36-9ece-4799-8610-ef3edb104c94"
      },
      "source": [
        "paddings = tf.constant([[0, 0], [1, 0], [1, 0], [0, 0]])\n",
        "X_padded = tf.pad(X, paddings, \"CONSTANT\")\n",
        "pool2d = tf.keras.layers.MaxPool2D(pool_size=[3, 3], padding='valid',\n",
        "                                   strides=2)\n",
        "pool2d(X_padded)"
      ],
      "execution_count": 7,
      "outputs": [
        {
          "output_type": "execute_result",
          "data": {
            "text/plain": [
              "<tf.Tensor: shape=(1, 2, 2, 1), dtype=float32, numpy=\n",
              "array([[[[ 5.],\n",
              "         [ 7.]],\n",
              "\n",
              "        [[13.],\n",
              "         [15.]]]], dtype=float32)>"
            ]
          },
          "metadata": {
            "tags": []
          },
          "execution_count": 7
        }
      ]
    },
    {
      "cell_type": "code",
      "metadata": {
        "colab": {
          "base_uri": "https://localhost:8080/"
        },
        "id": "LDnD6zlfse0S",
        "outputId": "6f0abeb2-271f-4573-fd14-189b3497f9d6"
      },
      "source": [
        "paddings = tf.constant([[0, 0], [0, 0], [1, 1], [0, 0]])\n",
        "X_padded = tf.pad(X, paddings, \"CONSTANT\")\n",
        "\n",
        "pool2d = tf.keras.layers.MaxPool2D(pool_size=[2, 3], padding='valid',\n",
        "                                   strides=(2, 3))\n",
        "pool2d(X_padded)"
      ],
      "execution_count": 8,
      "outputs": [
        {
          "output_type": "execute_result",
          "data": {
            "text/plain": [
              "<tf.Tensor: shape=(1, 2, 2, 1), dtype=float32, numpy=\n",
              "array([[[[ 5.],\n",
              "         [ 7.]],\n",
              "\n",
              "        [[13.],\n",
              "         [15.]]]], dtype=float32)>"
            ]
          },
          "metadata": {
            "tags": []
          },
          "execution_count": 8
        }
      ]
    },
    {
      "cell_type": "code",
      "metadata": {
        "id": "tsDjkGfasn0t"
      },
      "source": [
        "X = tf.concat([X, X + 1],\n",
        "              3)  # Concatenate along `dim=3` due to channels-last syntax"
      ],
      "execution_count": 9,
      "outputs": []
    },
    {
      "cell_type": "code",
      "metadata": {
        "colab": {
          "base_uri": "https://localhost:8080/"
        },
        "id": "1hBB238issNy",
        "outputId": "2be8a3c5-0a8f-4425-f751-96ffe7f9e8b7"
      },
      "source": [
        "paddings = tf.constant([[0, 0], [1, 0], [1, 0], [0, 0]])\n",
        "X_padded = tf.pad(X, paddings, \"CONSTANT\")\n",
        "pool2d = tf.keras.layers.MaxPool2D(pool_size=[3, 3], padding='valid',\n",
        "                                   strides=2)\n",
        "pool2d(X_padded)"
      ],
      "execution_count": 10,
      "outputs": [
        {
          "output_type": "execute_result",
          "data": {
            "text/plain": [
              "<tf.Tensor: shape=(1, 2, 2, 2), dtype=float32, numpy=\n",
              "array([[[[ 5.,  6.],\n",
              "         [ 7.,  8.]],\n",
              "\n",
              "        [[13., 14.],\n",
              "         [15., 16.]]]], dtype=float32)>"
            ]
          },
          "metadata": {
            "tags": []
          },
          "execution_count": 10
        }
      ]
    }
  ]
}